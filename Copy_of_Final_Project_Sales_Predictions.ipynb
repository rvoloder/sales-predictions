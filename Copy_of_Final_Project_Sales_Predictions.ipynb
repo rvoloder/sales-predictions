{
  "nbformat": 4,
  "nbformat_minor": 0,
  "metadata": {
    "colab": {
      "name": "Copy of Final_Project_Sales_Predictions.ipynb",
      "provenance": [],
      "collapsed_sections": [],
      "mount_file_id": "1XIZMNHhZdLZEfgiVrBq64aaOD9gsD32q",
      "authorship_tag": "ABX9TyNj88ELTOWkWr84N30Wq71g",
      "include_colab_link": true
    },
    "kernelspec": {
      "name": "python3",
      "display_name": "Python 3"
    },
    "language_info": {
      "name": "python"
    }
  },
  "cells": [
    {
      "cell_type": "markdown",
      "metadata": {
        "id": "view-in-github",
        "colab_type": "text"
      },
      "source": [
        "<a href=\"https://colab.research.google.com/github/rvoloder/sales-predictions/blob/main/Copy_of_Final_Project_Sales_Predictions.ipynb\" target=\"_parent\"><img src=\"https://colab.research.google.com/assets/colab-badge.svg\" alt=\"Open In Colab\"/></a>"
      ]
    },
    {
      "cell_type": "code",
      "source": [
        "from google.colab import drive\n",
        "drive.mount('/content/drive')"
      ],
      "metadata": {
        "colab": {
          "base_uri": "https://localhost:8080/"
        },
        "id": "7aTl3IUK_rNm",
        "outputId": "4da2dbfb-1e3b-4998-9c6b-3105bd636a33"
      },
      "execution_count": 3,
      "outputs": [
        {
          "output_type": "stream",
          "name": "stdout",
          "text": [
            "Mounted at /content/drive\n"
          ]
        }
      ]
    },
    {
      "cell_type": "code",
      "execution_count": 4,
      "metadata": {
        "id": "obZMgoP0JRKV"
      },
      "outputs": [],
      "source": [
        "import pandas as pd\n",
        "import numpy as np\n",
        "from sklearn.preprocessing import StandardScaler, OneHotEncoder\n",
        "from sklearn.impute import SimpleImputer\n",
        "from sklearn.compose import make_column_transformer, make_column_selector\n",
        "from sklearn.pipeline import make_pipeline\n",
        "from sklearn.model_selection import train_test_split\n",
        "from sklearn import set_config\n",
        "set_config(display = 'diagram')"
      ]
    },
    {
      "cell_type": "markdown",
      "source": [
        "# Load data:"
      ],
      "metadata": {
        "id": "AhEBihFEG3Pw"
      }
    },
    {
      "cell_type": "code",
      "source": [
        "filename = \"/content/drive/MyDrive/Coding Dojo/01 Stack Week 2: Pandas/sales_predictions.csv\"\n",
        "\n",
        "df = pd.read_csv(filename)\n",
        "df"
      ],
      "metadata": {
        "colab": {
          "base_uri": "https://localhost:8080/",
          "height": 653
        },
        "id": "ExrAOeXyJZlM",
        "outputId": "a6663cad-8318-45d5-c11a-295f7dadd9df"
      },
      "execution_count": 5,
      "outputs": [
        {
          "output_type": "execute_result",
          "data": {
            "text/plain": [
              "     Item_Identifier  Item_Weight Item_Fat_Content  Item_Visibility  \\\n",
              "0              FDA15        9.300          Low Fat         0.016047   \n",
              "1              DRC01        5.920          Regular         0.019278   \n",
              "2              FDN15       17.500          Low Fat         0.016760   \n",
              "3              FDX07       19.200          Regular         0.000000   \n",
              "4              NCD19        8.930          Low Fat         0.000000   \n",
              "...              ...          ...              ...              ...   \n",
              "8518           FDF22        6.865          Low Fat         0.056783   \n",
              "8519           FDS36        8.380          Regular         0.046982   \n",
              "8520           NCJ29       10.600          Low Fat         0.035186   \n",
              "8521           FDN46        7.210          Regular         0.145221   \n",
              "8522           DRG01       14.800          Low Fat         0.044878   \n",
              "\n",
              "                  Item_Type  Item_MRP Outlet_Identifier  \\\n",
              "0                     Dairy  249.8092            OUT049   \n",
              "1               Soft Drinks   48.2692            OUT018   \n",
              "2                      Meat  141.6180            OUT049   \n",
              "3     Fruits and Vegetables  182.0950            OUT010   \n",
              "4                 Household   53.8614            OUT013   \n",
              "...                     ...       ...               ...   \n",
              "8518            Snack Foods  214.5218            OUT013   \n",
              "8519           Baking Goods  108.1570            OUT045   \n",
              "8520     Health and Hygiene   85.1224            OUT035   \n",
              "8521            Snack Foods  103.1332            OUT018   \n",
              "8522            Soft Drinks   75.4670            OUT046   \n",
              "\n",
              "      Outlet_Establishment_Year Outlet_Size Outlet_Location_Type  \\\n",
              "0                          1999      Medium               Tier 1   \n",
              "1                          2009      Medium               Tier 3   \n",
              "2                          1999      Medium               Tier 1   \n",
              "3                          1998         NaN               Tier 3   \n",
              "4                          1987        High               Tier 3   \n",
              "...                         ...         ...                  ...   \n",
              "8518                       1987        High               Tier 3   \n",
              "8519                       2002         NaN               Tier 2   \n",
              "8520                       2004       Small               Tier 2   \n",
              "8521                       2009      Medium               Tier 3   \n",
              "8522                       1997       Small               Tier 1   \n",
              "\n",
              "            Outlet_Type  Item_Outlet_Sales  \n",
              "0     Supermarket Type1          3735.1380  \n",
              "1     Supermarket Type2           443.4228  \n",
              "2     Supermarket Type1          2097.2700  \n",
              "3         Grocery Store           732.3800  \n",
              "4     Supermarket Type1           994.7052  \n",
              "...                 ...                ...  \n",
              "8518  Supermarket Type1          2778.3834  \n",
              "8519  Supermarket Type1           549.2850  \n",
              "8520  Supermarket Type1          1193.1136  \n",
              "8521  Supermarket Type2          1845.5976  \n",
              "8522  Supermarket Type1           765.6700  \n",
              "\n",
              "[8523 rows x 12 columns]"
            ],
            "text/html": [
              "\n",
              "  <div id=\"df-d4fee4a9-ec74-4e01-affd-11bd90b45696\">\n",
              "    <div class=\"colab-df-container\">\n",
              "      <div>\n",
              "<style scoped>\n",
              "    .dataframe tbody tr th:only-of-type {\n",
              "        vertical-align: middle;\n",
              "    }\n",
              "\n",
              "    .dataframe tbody tr th {\n",
              "        vertical-align: top;\n",
              "    }\n",
              "\n",
              "    .dataframe thead th {\n",
              "        text-align: right;\n",
              "    }\n",
              "</style>\n",
              "<table border=\"1\" class=\"dataframe\">\n",
              "  <thead>\n",
              "    <tr style=\"text-align: right;\">\n",
              "      <th></th>\n",
              "      <th>Item_Identifier</th>\n",
              "      <th>Item_Weight</th>\n",
              "      <th>Item_Fat_Content</th>\n",
              "      <th>Item_Visibility</th>\n",
              "      <th>Item_Type</th>\n",
              "      <th>Item_MRP</th>\n",
              "      <th>Outlet_Identifier</th>\n",
              "      <th>Outlet_Establishment_Year</th>\n",
              "      <th>Outlet_Size</th>\n",
              "      <th>Outlet_Location_Type</th>\n",
              "      <th>Outlet_Type</th>\n",
              "      <th>Item_Outlet_Sales</th>\n",
              "    </tr>\n",
              "  </thead>\n",
              "  <tbody>\n",
              "    <tr>\n",
              "      <th>0</th>\n",
              "      <td>FDA15</td>\n",
              "      <td>9.300</td>\n",
              "      <td>Low Fat</td>\n",
              "      <td>0.016047</td>\n",
              "      <td>Dairy</td>\n",
              "      <td>249.8092</td>\n",
              "      <td>OUT049</td>\n",
              "      <td>1999</td>\n",
              "      <td>Medium</td>\n",
              "      <td>Tier 1</td>\n",
              "      <td>Supermarket Type1</td>\n",
              "      <td>3735.1380</td>\n",
              "    </tr>\n",
              "    <tr>\n",
              "      <th>1</th>\n",
              "      <td>DRC01</td>\n",
              "      <td>5.920</td>\n",
              "      <td>Regular</td>\n",
              "      <td>0.019278</td>\n",
              "      <td>Soft Drinks</td>\n",
              "      <td>48.2692</td>\n",
              "      <td>OUT018</td>\n",
              "      <td>2009</td>\n",
              "      <td>Medium</td>\n",
              "      <td>Tier 3</td>\n",
              "      <td>Supermarket Type2</td>\n",
              "      <td>443.4228</td>\n",
              "    </tr>\n",
              "    <tr>\n",
              "      <th>2</th>\n",
              "      <td>FDN15</td>\n",
              "      <td>17.500</td>\n",
              "      <td>Low Fat</td>\n",
              "      <td>0.016760</td>\n",
              "      <td>Meat</td>\n",
              "      <td>141.6180</td>\n",
              "      <td>OUT049</td>\n",
              "      <td>1999</td>\n",
              "      <td>Medium</td>\n",
              "      <td>Tier 1</td>\n",
              "      <td>Supermarket Type1</td>\n",
              "      <td>2097.2700</td>\n",
              "    </tr>\n",
              "    <tr>\n",
              "      <th>3</th>\n",
              "      <td>FDX07</td>\n",
              "      <td>19.200</td>\n",
              "      <td>Regular</td>\n",
              "      <td>0.000000</td>\n",
              "      <td>Fruits and Vegetables</td>\n",
              "      <td>182.0950</td>\n",
              "      <td>OUT010</td>\n",
              "      <td>1998</td>\n",
              "      <td>NaN</td>\n",
              "      <td>Tier 3</td>\n",
              "      <td>Grocery Store</td>\n",
              "      <td>732.3800</td>\n",
              "    </tr>\n",
              "    <tr>\n",
              "      <th>4</th>\n",
              "      <td>NCD19</td>\n",
              "      <td>8.930</td>\n",
              "      <td>Low Fat</td>\n",
              "      <td>0.000000</td>\n",
              "      <td>Household</td>\n",
              "      <td>53.8614</td>\n",
              "      <td>OUT013</td>\n",
              "      <td>1987</td>\n",
              "      <td>High</td>\n",
              "      <td>Tier 3</td>\n",
              "      <td>Supermarket Type1</td>\n",
              "      <td>994.7052</td>\n",
              "    </tr>\n",
              "    <tr>\n",
              "      <th>...</th>\n",
              "      <td>...</td>\n",
              "      <td>...</td>\n",
              "      <td>...</td>\n",
              "      <td>...</td>\n",
              "      <td>...</td>\n",
              "      <td>...</td>\n",
              "      <td>...</td>\n",
              "      <td>...</td>\n",
              "      <td>...</td>\n",
              "      <td>...</td>\n",
              "      <td>...</td>\n",
              "      <td>...</td>\n",
              "    </tr>\n",
              "    <tr>\n",
              "      <th>8518</th>\n",
              "      <td>FDF22</td>\n",
              "      <td>6.865</td>\n",
              "      <td>Low Fat</td>\n",
              "      <td>0.056783</td>\n",
              "      <td>Snack Foods</td>\n",
              "      <td>214.5218</td>\n",
              "      <td>OUT013</td>\n",
              "      <td>1987</td>\n",
              "      <td>High</td>\n",
              "      <td>Tier 3</td>\n",
              "      <td>Supermarket Type1</td>\n",
              "      <td>2778.3834</td>\n",
              "    </tr>\n",
              "    <tr>\n",
              "      <th>8519</th>\n",
              "      <td>FDS36</td>\n",
              "      <td>8.380</td>\n",
              "      <td>Regular</td>\n",
              "      <td>0.046982</td>\n",
              "      <td>Baking Goods</td>\n",
              "      <td>108.1570</td>\n",
              "      <td>OUT045</td>\n",
              "      <td>2002</td>\n",
              "      <td>NaN</td>\n",
              "      <td>Tier 2</td>\n",
              "      <td>Supermarket Type1</td>\n",
              "      <td>549.2850</td>\n",
              "    </tr>\n",
              "    <tr>\n",
              "      <th>8520</th>\n",
              "      <td>NCJ29</td>\n",
              "      <td>10.600</td>\n",
              "      <td>Low Fat</td>\n",
              "      <td>0.035186</td>\n",
              "      <td>Health and Hygiene</td>\n",
              "      <td>85.1224</td>\n",
              "      <td>OUT035</td>\n",
              "      <td>2004</td>\n",
              "      <td>Small</td>\n",
              "      <td>Tier 2</td>\n",
              "      <td>Supermarket Type1</td>\n",
              "      <td>1193.1136</td>\n",
              "    </tr>\n",
              "    <tr>\n",
              "      <th>8521</th>\n",
              "      <td>FDN46</td>\n",
              "      <td>7.210</td>\n",
              "      <td>Regular</td>\n",
              "      <td>0.145221</td>\n",
              "      <td>Snack Foods</td>\n",
              "      <td>103.1332</td>\n",
              "      <td>OUT018</td>\n",
              "      <td>2009</td>\n",
              "      <td>Medium</td>\n",
              "      <td>Tier 3</td>\n",
              "      <td>Supermarket Type2</td>\n",
              "      <td>1845.5976</td>\n",
              "    </tr>\n",
              "    <tr>\n",
              "      <th>8522</th>\n",
              "      <td>DRG01</td>\n",
              "      <td>14.800</td>\n",
              "      <td>Low Fat</td>\n",
              "      <td>0.044878</td>\n",
              "      <td>Soft Drinks</td>\n",
              "      <td>75.4670</td>\n",
              "      <td>OUT046</td>\n",
              "      <td>1997</td>\n",
              "      <td>Small</td>\n",
              "      <td>Tier 1</td>\n",
              "      <td>Supermarket Type1</td>\n",
              "      <td>765.6700</td>\n",
              "    </tr>\n",
              "  </tbody>\n",
              "</table>\n",
              "<p>8523 rows × 12 columns</p>\n",
              "</div>\n",
              "      <button class=\"colab-df-convert\" onclick=\"convertToInteractive('df-d4fee4a9-ec74-4e01-affd-11bd90b45696')\"\n",
              "              title=\"Convert this dataframe to an interactive table.\"\n",
              "              style=\"display:none;\">\n",
              "        \n",
              "  <svg xmlns=\"http://www.w3.org/2000/svg\" height=\"24px\"viewBox=\"0 0 24 24\"\n",
              "       width=\"24px\">\n",
              "    <path d=\"M0 0h24v24H0V0z\" fill=\"none\"/>\n",
              "    <path d=\"M18.56 5.44l.94 2.06.94-2.06 2.06-.94-2.06-.94-.94-2.06-.94 2.06-2.06.94zm-11 1L8.5 8.5l.94-2.06 2.06-.94-2.06-.94L8.5 2.5l-.94 2.06-2.06.94zm10 10l.94 2.06.94-2.06 2.06-.94-2.06-.94-.94-2.06-.94 2.06-2.06.94z\"/><path d=\"M17.41 7.96l-1.37-1.37c-.4-.4-.92-.59-1.43-.59-.52 0-1.04.2-1.43.59L10.3 9.45l-7.72 7.72c-.78.78-.78 2.05 0 2.83L4 21.41c.39.39.9.59 1.41.59.51 0 1.02-.2 1.41-.59l7.78-7.78 2.81-2.81c.8-.78.8-2.07 0-2.86zM5.41 20L4 18.59l7.72-7.72 1.47 1.35L5.41 20z\"/>\n",
              "  </svg>\n",
              "      </button>\n",
              "      \n",
              "  <style>\n",
              "    .colab-df-container {\n",
              "      display:flex;\n",
              "      flex-wrap:wrap;\n",
              "      gap: 12px;\n",
              "    }\n",
              "\n",
              "    .colab-df-convert {\n",
              "      background-color: #E8F0FE;\n",
              "      border: none;\n",
              "      border-radius: 50%;\n",
              "      cursor: pointer;\n",
              "      display: none;\n",
              "      fill: #1967D2;\n",
              "      height: 32px;\n",
              "      padding: 0 0 0 0;\n",
              "      width: 32px;\n",
              "    }\n",
              "\n",
              "    .colab-df-convert:hover {\n",
              "      background-color: #E2EBFA;\n",
              "      box-shadow: 0px 1px 2px rgba(60, 64, 67, 0.3), 0px 1px 3px 1px rgba(60, 64, 67, 0.15);\n",
              "      fill: #174EA6;\n",
              "    }\n",
              "\n",
              "    [theme=dark] .colab-df-convert {\n",
              "      background-color: #3B4455;\n",
              "      fill: #D2E3FC;\n",
              "    }\n",
              "\n",
              "    [theme=dark] .colab-df-convert:hover {\n",
              "      background-color: #434B5C;\n",
              "      box-shadow: 0px 1px 3px 1px rgba(0, 0, 0, 0.15);\n",
              "      filter: drop-shadow(0px 1px 2px rgba(0, 0, 0, 0.3));\n",
              "      fill: #FFFFFF;\n",
              "    }\n",
              "  </style>\n",
              "\n",
              "      <script>\n",
              "        const buttonEl =\n",
              "          document.querySelector('#df-d4fee4a9-ec74-4e01-affd-11bd90b45696 button.colab-df-convert');\n",
              "        buttonEl.style.display =\n",
              "          google.colab.kernel.accessAllowed ? 'block' : 'none';\n",
              "\n",
              "        async function convertToInteractive(key) {\n",
              "          const element = document.querySelector('#df-d4fee4a9-ec74-4e01-affd-11bd90b45696');\n",
              "          const dataTable =\n",
              "            await google.colab.kernel.invokeFunction('convertToInteractive',\n",
              "                                                     [key], {});\n",
              "          if (!dataTable) return;\n",
              "\n",
              "          const docLinkHtml = 'Like what you see? Visit the ' +\n",
              "            '<a target=\"_blank\" href=https://colab.research.google.com/notebooks/data_table.ipynb>data table notebook</a>'\n",
              "            + ' to learn more about interactive tables.';\n",
              "          element.innerHTML = '';\n",
              "          dataTable['output_type'] = 'display_data';\n",
              "          await google.colab.output.renderOutput(dataTable, element);\n",
              "          const docLink = document.createElement('div');\n",
              "          docLink.innerHTML = docLinkHtml;\n",
              "          element.appendChild(docLink);\n",
              "        }\n",
              "      </script>\n",
              "    </div>\n",
              "  </div>\n",
              "  "
            ]
          },
          "metadata": {},
          "execution_count": 5
        }
      ]
    },
    {
      "cell_type": "code",
      "source": [
        "df.info()"
      ],
      "metadata": {
        "colab": {
          "base_uri": "https://localhost:8080/"
        },
        "id": "bql7-jabBdT8",
        "outputId": "79712ccb-1734-4f31-aa75-1e938864787d"
      },
      "execution_count": 6,
      "outputs": [
        {
          "output_type": "stream",
          "name": "stdout",
          "text": [
            "<class 'pandas.core.frame.DataFrame'>\n",
            "RangeIndex: 8523 entries, 0 to 8522\n",
            "Data columns (total 12 columns):\n",
            " #   Column                     Non-Null Count  Dtype  \n",
            "---  ------                     --------------  -----  \n",
            " 0   Item_Identifier            8523 non-null   object \n",
            " 1   Item_Weight                7060 non-null   float64\n",
            " 2   Item_Fat_Content           8523 non-null   object \n",
            " 3   Item_Visibility            8523 non-null   float64\n",
            " 4   Item_Type                  8523 non-null   object \n",
            " 5   Item_MRP                   8523 non-null   float64\n",
            " 6   Outlet_Identifier          8523 non-null   object \n",
            " 7   Outlet_Establishment_Year  8523 non-null   int64  \n",
            " 8   Outlet_Size                6113 non-null   object \n",
            " 9   Outlet_Location_Type       8523 non-null   object \n",
            " 10  Outlet_Type                8523 non-null   object \n",
            " 11  Item_Outlet_Sales          8523 non-null   float64\n",
            "dtypes: float64(4), int64(1), object(7)\n",
            "memory usage: 799.2+ KB\n"
          ]
        }
      ]
    },
    {
      "cell_type": "markdown",
      "source": [
        "# Data Cleaning"
      ],
      "metadata": {
        "id": "uyjIbJxnEoAH"
      }
    },
    {
      "cell_type": "markdown",
      "source": [
        "Are there any duplicates?"
      ],
      "metadata": {
        "id": "z-mP2OKYEs8O"
      }
    },
    {
      "cell_type": "code",
      "source": [
        "df.duplicated().sum()\n",
        "\n",
        "## No!"
      ],
      "metadata": {
        "colab": {
          "base_uri": "https://localhost:8080/"
        },
        "id": "a9q0u3T7BqWh",
        "outputId": "0e94f9b2-ed2a-45b9-a078-4cebbc9fb633"
      },
      "execution_count": 7,
      "outputs": [
        {
          "output_type": "execute_result",
          "data": {
            "text/plain": [
              "0"
            ]
          },
          "metadata": {},
          "execution_count": 7
        }
      ]
    },
    {
      "cell_type": "markdown",
      "source": [
        "Identify missing values:\n",
        "\n",
        "From above (df.info()), Item_Weight and Outlet_Size have missing values."
      ],
      "metadata": {
        "id": "k9v4UEFAE2FF"
      }
    },
    {
      "cell_type": "markdown",
      "source": [
        "As I am not using any numerical calculations or frequency assessments, I am choosing to deduce and impute some of the missing data by making links in the available data. This will not cause any data leakage. "
      ],
      "metadata": {
        "id": "rAz5zLlZsWzs"
      }
    },
    {
      "cell_type": "markdown",
      "source": [
        "For Outlet_Size, I will first check how the Outlet_Size is categorized and how much of each category is present:"
      ],
      "metadata": {
        "id": "TEgBNXWTFCvR"
      }
    },
    {
      "cell_type": "code",
      "source": [
        "df['Outlet_Size'].value_counts()"
      ],
      "metadata": {
        "colab": {
          "base_uri": "https://localhost:8080/"
        },
        "id": "3WbHmZTWB5L3",
        "outputId": "a04b3740-4803-4e2a-b147-b0bc117377b8"
      },
      "execution_count": 8,
      "outputs": [
        {
          "output_type": "execute_result",
          "data": {
            "text/plain": [
              "Medium    2793\n",
              "Small     2388\n",
              "High       932\n",
              "Name: Outlet_Size, dtype: int64"
            ]
          },
          "metadata": {},
          "execution_count": 8
        }
      ]
    },
    {
      "cell_type": "markdown",
      "source": [
        "The above count does not show that a mode (most common value) would be of use here.\n",
        "\n",
        "If we look back on our data, we see that although we do not have all the Outlet_Sizes, we do have every Outlet_Type of each item.\n",
        "\n",
        "If we look at the value counts of our Outlet_Types, we notice an interesting pattern.\n"
      ],
      "metadata": {
        "id": "NVgYL514FIxv"
      }
    },
    {
      "cell_type": "code",
      "source": [
        "df.groupby('Outlet_Size')['Outlet_Type'].value_counts()"
      ],
      "metadata": {
        "colab": {
          "base_uri": "https://localhost:8080/"
        },
        "id": "9cqa4ZbMJm-O",
        "outputId": "05fe6c80-2e03-472b-c479-88314dcb8eb8"
      },
      "execution_count": 9,
      "outputs": [
        {
          "output_type": "execute_result",
          "data": {
            "text/plain": [
              "Outlet_Size  Outlet_Type      \n",
              "High         Supermarket Type1     932\n",
              "Medium       Supermarket Type3     935\n",
              "             Supermarket Type1     930\n",
              "             Supermarket Type2     928\n",
              "Small        Supermarket Type1    1860\n",
              "             Grocery Store         528\n",
              "Name: Outlet_Type, dtype: int64"
            ]
          },
          "metadata": {},
          "execution_count": 9
        }
      ]
    },
    {
      "cell_type": "code",
      "source": [
        "df['Outlet_Type'].value_counts()"
      ],
      "metadata": {
        "colab": {
          "base_uri": "https://localhost:8080/"
        },
        "id": "nfrWKAZaPaUs",
        "outputId": "9ea6ce5b-2e81-4f4a-8ec3-6b388aa3d21f"
      },
      "execution_count": 10,
      "outputs": [
        {
          "output_type": "execute_result",
          "data": {
            "text/plain": [
              "Supermarket Type1    5577\n",
              "Grocery Store        1083\n",
              "Supermarket Type3     935\n",
              "Supermarket Type2     928\n",
              "Name: Outlet_Type, dtype: int64"
            ]
          },
          "metadata": {},
          "execution_count": 10
        }
      ]
    },
    {
      "cell_type": "markdown",
      "source": [
        "From the info above, we can first see that if a type is a 'Grocery Store', the size category is always small.\n",
        "\n",
        "It would be logical to infer that any 'Grocery Store' type would be a small size store.\n",
        "\n",
        "This also makes sense with the name, as a 'Supermarket' is usually a large 'Grocery Store'.\n",
        "\n",
        "Using this inference, we will replace the missing values for Outlet_Size with 'Small', if the Outlet_Type is 'Grocery Store'.\n"
      ],
      "metadata": {
        "id": "qYCubUBNFQ7B"
      }
    },
    {
      "cell_type": "code",
      "source": [
        "grocery_store_filter = df['Outlet_Type'] == 'Grocery Store'\n",
        "\n",
        "df.loc[grocery_store_filter, 'Outlet_Size'] = 'Small'\n",
        "df.info()\n"
      ],
      "metadata": {
        "colab": {
          "base_uri": "https://localhost:8080/"
        },
        "id": "VlyX5GyqKpuA",
        "outputId": "858c1bbc-9faf-4448-f2fb-5a6ddea31569"
      },
      "execution_count": 11,
      "outputs": [
        {
          "output_type": "stream",
          "name": "stdout",
          "text": [
            "<class 'pandas.core.frame.DataFrame'>\n",
            "RangeIndex: 8523 entries, 0 to 8522\n",
            "Data columns (total 12 columns):\n",
            " #   Column                     Non-Null Count  Dtype  \n",
            "---  ------                     --------------  -----  \n",
            " 0   Item_Identifier            8523 non-null   object \n",
            " 1   Item_Weight                7060 non-null   float64\n",
            " 2   Item_Fat_Content           8523 non-null   object \n",
            " 3   Item_Visibility            8523 non-null   float64\n",
            " 4   Item_Type                  8523 non-null   object \n",
            " 5   Item_MRP                   8523 non-null   float64\n",
            " 6   Outlet_Identifier          8523 non-null   object \n",
            " 7   Outlet_Establishment_Year  8523 non-null   int64  \n",
            " 8   Outlet_Size                6668 non-null   object \n",
            " 9   Outlet_Location_Type       8523 non-null   object \n",
            " 10  Outlet_Type                8523 non-null   object \n",
            " 11  Item_Outlet_Sales          8523 non-null   float64\n",
            "dtypes: float64(4), int64(1), object(7)\n",
            "memory usage: 799.2+ KB\n"
          ]
        }
      ]
    },
    {
      "cell_type": "markdown",
      "source": [
        "Using this same logic we see that all Supermarket Type2 and Supermarket Type3 appear to be medium sized.\n",
        "\n",
        "Unfortunately, when we look further, all Supermarket Type2 and Type3 have been categorized as medium.\n"
      ],
      "metadata": {
        "id": "RMKwRZuWFZl9"
      }
    },
    {
      "cell_type": "code",
      "source": [
        "df.groupby('Outlet_Size')['Outlet_Type'].value_counts()\n"
      ],
      "metadata": {
        "colab": {
          "base_uri": "https://localhost:8080/"
        },
        "id": "25Z9V4c4MXVc",
        "outputId": "5cdc2e6a-c641-4c28-a7f4-36a27a35e2ba"
      },
      "execution_count": 12,
      "outputs": [
        {
          "output_type": "execute_result",
          "data": {
            "text/plain": [
              "Outlet_Size  Outlet_Type      \n",
              "High         Supermarket Type1     932\n",
              "Medium       Supermarket Type3     935\n",
              "             Supermarket Type1     930\n",
              "             Supermarket Type2     928\n",
              "Small        Supermarket Type1    1860\n",
              "             Grocery Store        1083\n",
              "Name: Outlet_Type, dtype: int64"
            ]
          },
          "metadata": {},
          "execution_count": 12
        }
      ]
    },
    {
      "cell_type": "code",
      "source": [
        "df['Outlet_Size'].value_counts()"
      ],
      "metadata": {
        "colab": {
          "base_uri": "https://localhost:8080/"
        },
        "id": "Gp6kZiAGVsrv",
        "outputId": "6ef20afc-44c4-478e-d704-a48a78a0a0da"
      },
      "execution_count": 13,
      "outputs": [
        {
          "output_type": "execute_result",
          "data": {
            "text/plain": [
              "Small     2943\n",
              "Medium    2793\n",
              "High       932\n",
              "Name: Outlet_Size, dtype: int64"
            ]
          },
          "metadata": {},
          "execution_count": 13
        }
      ]
    },
    {
      "cell_type": "markdown",
      "source": [
        "If we look deeper into the location types, we notice that Tier 2 locations always appear to be 'Small' size.\n"
      ],
      "metadata": {
        "id": "jDmhK5ykFfCf"
      }
    },
    {
      "cell_type": "code",
      "source": [
        "df.groupby('Outlet_Location_Type')['Outlet_Size'].value_counts()"
      ],
      "metadata": {
        "colab": {
          "base_uri": "https://localhost:8080/"
        },
        "id": "ZlFJJNvPW700",
        "outputId": "32f93739-4fea-42cd-c15e-fbd1661b9968"
      },
      "execution_count": 14,
      "outputs": [
        {
          "output_type": "execute_result",
          "data": {
            "text/plain": [
              "Outlet_Location_Type  Outlet_Size\n",
              "Tier 1                Small          1458\n",
              "                      Medium          930\n",
              "Tier 2                Small           930\n",
              "Tier 3                Medium         1863\n",
              "                      High            932\n",
              "                      Small           555\n",
              "Name: Outlet_Size, dtype: int64"
            ]
          },
          "metadata": {},
          "execution_count": 14
        }
      ]
    },
    {
      "cell_type": "markdown",
      "source": [
        "If we attempt to change the Tier 2 locations to small, we see that we have filled in our missing data!\n"
      ],
      "metadata": {
        "id": "VUXDDrBfFjKR"
      }
    },
    {
      "cell_type": "code",
      "source": [
        "tier2_filter = df['Outlet_Location_Type'] == 'Tier 2'\n",
        "\n",
        "df.loc[tier2_filter, 'Outlet_Size'] = 'Small'\n",
        "df.info()"
      ],
      "metadata": {
        "colab": {
          "base_uri": "https://localhost:8080/"
        },
        "id": "EAqw9rcBXaXW",
        "outputId": "43272079-6300-4946-c4de-3e854a35de4b"
      },
      "execution_count": 15,
      "outputs": [
        {
          "output_type": "stream",
          "name": "stdout",
          "text": [
            "<class 'pandas.core.frame.DataFrame'>\n",
            "RangeIndex: 8523 entries, 0 to 8522\n",
            "Data columns (total 12 columns):\n",
            " #   Column                     Non-Null Count  Dtype  \n",
            "---  ------                     --------------  -----  \n",
            " 0   Item_Identifier            8523 non-null   object \n",
            " 1   Item_Weight                7060 non-null   float64\n",
            " 2   Item_Fat_Content           8523 non-null   object \n",
            " 3   Item_Visibility            8523 non-null   float64\n",
            " 4   Item_Type                  8523 non-null   object \n",
            " 5   Item_MRP                   8523 non-null   float64\n",
            " 6   Outlet_Identifier          8523 non-null   object \n",
            " 7   Outlet_Establishment_Year  8523 non-null   int64  \n",
            " 8   Outlet_Size                8523 non-null   object \n",
            " 9   Outlet_Location_Type       8523 non-null   object \n",
            " 10  Outlet_Type                8523 non-null   object \n",
            " 11  Item_Outlet_Sales          8523 non-null   float64\n",
            "dtypes: float64(4), int64(1), object(7)\n",
            "memory usage: 799.2+ KB\n"
          ]
        }
      ]
    },
    {
      "cell_type": "markdown",
      "source": [
        "# Data Visualization:"
      ],
      "metadata": {
        "id": "_GisVbwmG85c"
      }
    },
    {
      "cell_type": "markdown",
      "source": [
        "Let's explore our data visually before we jump into modeling:"
      ],
      "metadata": {
        "id": "MdjMM62z4rRO"
      }
    },
    {
      "cell_type": "code",
      "source": [
        "import numpy as np\n",
        "import matplotlib.pyplot as plt\n",
        "import seaborn as sns"
      ],
      "metadata": {
        "id": "u2K3b8aF3jQP"
      },
      "execution_count": 16,
      "outputs": []
    },
    {
      "cell_type": "code",
      "source": [
        "df['Item_Outlet_Sales'].hist();\n",
        "plt.xlabel('Item Sales');\n",
        "plt.ylabel('Counts');"
      ],
      "metadata": {
        "colab": {
          "base_uri": "https://localhost:8080/",
          "height": 279
        },
        "id": "O6ubwwod3kx0",
        "outputId": "9ed0f622-07e9-48f2-b649-cfe78fe64b01"
      },
      "execution_count": 17,
      "outputs": [
        {
          "output_type": "display_data",
          "data": {
            "text/plain": [
              "<Figure size 432x288 with 1 Axes>"
            ],
            "image/png": "[encoded data removed]"
          },
          "metadata": {
            "needs_background": "light"
          }
        }
      ]
    },
    {
      "cell_type": "markdown",
      "source": [
        "The above graph shows that a majority of Items fall in the range of 0 to 4000 in sales. This shows that we really only have a few items that we would consider bestsellers. It would be interesting to evaluate which products make more than 4000 or even 6000 and try and figure out a correlation to other factors. Maybe we can discover a way to better sales for the less popular items."
      ],
      "metadata": {
        "id": "lNYxRQqF3qL9"
      }
    },
    {
      "cell_type": "code",
      "source": [
        "df['Item_Visibility'].hist();\n",
        "plt.xlabel('Item Visibility');\n",
        "plt.ylabel('Counts');"
      ],
      "metadata": {
        "colab": {
          "base_uri": "https://localhost:8080/",
          "height": 279
        },
        "id": "xnj3BG0V3syH",
        "outputId": "f8b13b18-b840-4ac7-c3e6-e6e35f38f306"
      },
      "execution_count": 18,
      "outputs": [
        {
          "output_type": "display_data",
          "data": {
            "text/plain": [
              "<Figure size 432x288 with 1 Axes>"
            ],
            "image/png": "[encoded data removed]"
          },
          "metadata": {
            "needs_background": "light"
          }
        }
      ]
    },
    {
      "cell_type": "markdown",
      "source": [
        "The histogram above shows that a majority of the products have low item visibility (i.e. that they have lower amounts of shelf space to display the products percentage-wise). Something like this could be a good indicator of higher or lower sales predictions. The logical assumption would be that the more \"visible\" the product is, the better it sells. But we seem to have very little items that are highly visible, which could be affecting sales."
      ],
      "metadata": {
        "id": "RLVDzDEV3yGt"
      }
    },
    {
      "cell_type": "code",
      "source": [
        "df['Item_MRP'].hist();\n",
        "plt.xlabel('Item Maximum Retail Price');\n",
        "plt.ylabel('Counts');"
      ],
      "metadata": {
        "colab": {
          "base_uri": "https://localhost:8080/",
          "height": 279
        },
        "id": "8heduqEl30yY",
        "outputId": "f7e56dd1-e728-4987-8752-082eeeff5049"
      },
      "execution_count": 19,
      "outputs": [
        {
          "output_type": "display_data",
          "data": {
            "text/plain": [
              "<Figure size 432x288 with 1 Axes>"
            ],
            "image/png": "[encoded data removed]"
          },
          "metadata": {
            "needs_background": "light"
          }
        }
      ]
    },
    {
      "cell_type": "markdown",
      "source": [
        "The chart above shows that the maximum price at which stores can sell each product vary greatly although most seem to fall in the middle range between 75 and 190. It would be interesting to take a look and compare how items with higher and lower retail prices sell comparatively. Are the bestsellers located in the higher or lower MRP range?"
      ],
      "metadata": {
        "id": "Dxgrepc534F1"
      }
    },
    {
      "cell_type": "code",
      "source": [
        "sns.boxplot(data = df, x = 'Outlet_Location_Type', y = 'Item_Outlet_Sales');"
      ],
      "metadata": {
        "colab": {
          "base_uri": "https://localhost:8080/",
          "height": 280
        },
        "id": "pO1bFleW36St",
        "outputId": "462bfa47-ce66-4539-d8ea-87fdb49d00c8"
      },
      "execution_count": 20,
      "outputs": [
        {
          "output_type": "display_data",
          "data": {
            "text/plain": [
              "<Figure size 432x288 with 1 Axes>"
            ],
            "image/png": "[encoded data removed]"
          },
          "metadata": {
            "needs_background": "light"
          }
        }
      ]
    },
    {
      "cell_type": "code",
      "source": [
        "sns.boxplot(data = df, x = 'Outlet_Size', y = 'Item_Outlet_Sales');"
      ],
      "metadata": {
        "colab": {
          "base_uri": "https://localhost:8080/",
          "height": 280
        },
        "id": "UTF171Lp3-xs",
        "outputId": "13145bd0-7912-4285-a6aa-385678508f82"
      },
      "execution_count": 21,
      "outputs": [
        {
          "output_type": "display_data",
          "data": {
            "text/plain": [
              "<Figure size 432x288 with 1 Axes>"
            ],
            "image/png": "[encoded data removed]"
          },
          "metadata": {
            "needs_background": "light"
          }
        }
      ]
    },
    {
      "cell_type": "code",
      "source": [
        "sns.boxplot(data = df, x = 'Outlet_Type', y = 'Item_Outlet_Sales');\n",
        "plt.xticks(rotation = 45);"
      ],
      "metadata": {
        "colab": {
          "base_uri": "https://localhost:8080/",
          "height": 346
        },
        "id": "VagPSSxc4Ake",
        "outputId": "6c18373b-7258-4688-efc9-561bf50d3abb"
      },
      "execution_count": 22,
      "outputs": [
        {
          "output_type": "display_data",
          "data": {
            "text/plain": [
              "<Figure size 432x288 with 1 Axes>"
            ],
            "image/png": "[encoded data removed]"
          },
          "metadata": {
            "needs_background": "light"
          }
        }
      ]
    },
    {
      "cell_type": "markdown",
      "source": [
        "The three boxplots above further confirm that our outliers (i.e. our bestsellers) usually fall in the range above 6000 in item sales. It also shows that \"Medium\" sized outlets tend to have higher sales per item then \"Small\" or \"Big\" outlets. We can also see that Tier 1 stores tend to be the worst performing, their 25 to 75 percentile range falling a bit lower than those of Tier 2 and Tier 3 stores. Tier 3 stores appear to have the most amount of outliers (high selling items) and it would be a good idea to investigate why that is. The final boxplot also shows us that \"Supermarket Type 3\" stores seem to be by far the best sellers among the stores whereas the \"Grocery Store\" seems to be by far the worst performing. It might even be a good idea to take a look and see if the Grocery Stores are even worth having. And to see why it is that the Type 3 stores seem to be the most successful (i.e. is it because of item type, visibility, something else?)."
      ],
      "metadata": {
        "id": "QpIobRWu4HPm"
      }
    },
    {
      "cell_type": "code",
      "source": [
        "sns.boxplot(data = df, x = 'Item_Type', y = 'Item_Outlet_Sales');\n",
        "plt.xticks(rotation = 80);"
      ],
      "metadata": {
        "colab": {
          "base_uri": "https://localhost:8080/",
          "height": 378
        },
        "id": "1WJJf1B-4JM1",
        "outputId": "ca519e7d-61f5-4b67-fc02-4606418aa93e"
      },
      "execution_count": 23,
      "outputs": [
        {
          "output_type": "display_data",
          "data": {
            "text/plain": [
              "<Figure size 432x288 with 1 Axes>"
            ],
            "image/png": "[encoded data removed]"
          },
          "metadata": {
            "needs_background": "light"
          }
        }
      ]
    },
    {
      "cell_type": "markdown",
      "source": [
        "The boxplot above shows us a good distribution of item sales per type. From this we can see a few interesting points. Some of our better sellers on average seem to be in the seafood, dairy, and starchy foods categories. This would be an interesting thing to explore and see if these items tend to have better item visibility or are located in certain types of stores that allow them to sell better. We can also see clearly where our biggest outliers are located. We should take a look at which items in certain categories (esp. fruits and vegetables, household, and snack foods) account fo rmost of our sales and what it is about these items that make them such good sellers. These factors we can then implement on items that seem to be selling not as well. "
      ],
      "metadata": {
        "id": "sFR49xQO4M9H"
      }
    },
    {
      "cell_type": "code",
      "source": [
        "sns.boxplot(data = df, x = 'Item_Fat_Content', y = 'Item_Outlet_Sales');"
      ],
      "metadata": {
        "colab": {
          "base_uri": "https://localhost:8080/",
          "height": 280
        },
        "id": "1QJbrmOr4PXJ",
        "outputId": "677ce2d2-8faf-450d-9d37-3a27a660492f"
      },
      "execution_count": 24,
      "outputs": [
        {
          "output_type": "display_data",
          "data": {
            "text/plain": [
              "<Figure size 432x288 with 1 Axes>"
            ],
            "image/png": "[encoded data removed]"
          },
          "metadata": {
            "needs_background": "light"
          }
        }
      ]
    },
    {
      "cell_type": "markdown",
      "source": [
        "In comparing the fat content of items on sales, we see that the distribution is fairly even. It does appear that a few more outliers (higher selling items) appear to be \"Low Fat\" items, which would be interesting to take a look at. But it does not appear that one cateogry is far superior to the other in sales."
      ],
      "metadata": {
        "id": "CLMbVaEU4VwP"
      }
    },
    {
      "cell_type": "code",
      "source": [
        "corr = df.corr()\n",
        "sns.heatmap(corr, cmap = 'Greens');"
      ],
      "metadata": {
        "colab": {
          "base_uri": "https://localhost:8080/",
          "height": 392
        },
        "id": "pjLt666b4W5M",
        "outputId": "d6f76d05-c7f1-432d-c677-d644bdf09064"
      },
      "execution_count": 25,
      "outputs": [
        {
          "output_type": "display_data",
          "data": {
            "text/plain": [
              "<Figure size 432x288 with 2 Axes>"
            ],
            "image/png": "[encoded data removed]"
          },
          "metadata": {
            "needs_background": "light"
          }
        }
      ]
    },
    {
      "cell_type": "markdown",
      "source": [
        "To investigate some of our assumptions further, we can create a heatmap to show correlations between various categories in our data. Although it appears that most of the data is only slightly correlated, we see that Item MRP (or Maximum Retail Price is strongly correlated with our Item Outlet Sales. This seems like it will be a key indicator for our sales predictions to come. "
      ],
      "metadata": {
        "id": "K1x5p6xE4hLK"
      }
    },
    {
      "cell_type": "code",
      "source": [
        "sns.regplot(data = df, x = 'Item_MRP', y = 'Item_Outlet_Sales',\n",
        "            scatter_kws = {'s':2},\n",
        "            line_kws = dict(color = 'black', ls = ':'));"
      ],
      "metadata": {
        "colab": {
          "base_uri": "https://localhost:8080/",
          "height": 280
        },
        "id": "pDaXO5S64iDN",
        "outputId": "24acc99c-e25e-4062-862f-5ec32d4ff001"
      },
      "execution_count": 26,
      "outputs": [
        {
          "output_type": "display_data",
          "data": {
            "text/plain": [
              "<Figure size 432x288 with 1 Axes>"
            ],
            "image/png": "[encoded data removed]"
          },
          "metadata": {
            "needs_background": "light"
          }
        }
      ]
    },
    {
      "cell_type": "markdown",
      "source": [
        "There appears to be a positive correlation between the Item's Maximum Retail Price and the item's Outlet Sales."
      ],
      "metadata": {
        "id": "DT0P3ita4nb5"
      }
    },
    {
      "cell_type": "markdown",
      "source": [
        "# Let's prepare our data for modeling:"
      ],
      "metadata": {
        "id": "jBgzvdMF5RBn"
      }
    },
    {
      "cell_type": "markdown",
      "source": [
        "We will now do some ordinal encoding to convert our data to numbers and make it useable for machine learning:\n"
      ],
      "metadata": {
        "id": "SwaA2yBiFtoO"
      }
    },
    {
      "cell_type": "code",
      "source": [
        "df['Item_Fat_Content'].value_counts()"
      ],
      "metadata": {
        "colab": {
          "base_uri": "https://localhost:8080/"
        },
        "id": "hdtmIOoCZPjl",
        "outputId": "dad0d19f-45c5-45cf-996a-250fd85a5266"
      },
      "execution_count": 27,
      "outputs": [
        {
          "output_type": "execute_result",
          "data": {
            "text/plain": [
              "Low Fat    5089\n",
              "Regular    2889\n",
              "LF          316\n",
              "reg         117\n",
              "low fat     112\n",
              "Name: Item_Fat_Content, dtype: int64"
            ]
          },
          "metadata": {},
          "execution_count": 27
        }
      ]
    },
    {
      "cell_type": "code",
      "source": [
        "replacement_dictionary = {'Low Fat': 0, 'LF': 0, 'low fat': 0, 'Regular': 1, 'reg': 1}\n",
        "df['Item_Fat_Content'].replace(replacement_dictionary, inplace = True)"
      ],
      "metadata": {
        "id": "NI0Z2AN_nohT"
      },
      "execution_count": 28,
      "outputs": []
    },
    {
      "cell_type": "code",
      "source": [
        "df['Outlet_Size'].value_counts()"
      ],
      "metadata": {
        "colab": {
          "base_uri": "https://localhost:8080/"
        },
        "id": "l7_1qt4boGlK",
        "outputId": "512fb3a3-7ec3-4873-bc64-cc4a00584322"
      },
      "execution_count": 29,
      "outputs": [
        {
          "output_type": "execute_result",
          "data": {
            "text/plain": [
              "Small     4798\n",
              "Medium    2793\n",
              "High       932\n",
              "Name: Outlet_Size, dtype: int64"
            ]
          },
          "metadata": {},
          "execution_count": 29
        }
      ]
    },
    {
      "cell_type": "code",
      "source": [
        "replacement_dictionary_2 = {'Small': 0, 'Medium': 1, 'High': 2}\n",
        "df['Outlet_Size'].replace(replacement_dictionary_2, inplace = True)"
      ],
      "metadata": {
        "id": "T2u8htlNocMO"
      },
      "execution_count": 30,
      "outputs": []
    },
    {
      "cell_type": "code",
      "source": [
        "df['Outlet_Location_Type'].value_counts()"
      ],
      "metadata": {
        "colab": {
          "base_uri": "https://localhost:8080/"
        },
        "id": "1ekh7XfIowfM",
        "outputId": "68192968-80f3-47a2-de9c-bd2abf111783"
      },
      "execution_count": 31,
      "outputs": [
        {
          "output_type": "execute_result",
          "data": {
            "text/plain": [
              "Tier 3    3350\n",
              "Tier 2    2785\n",
              "Tier 1    2388\n",
              "Name: Outlet_Location_Type, dtype: int64"
            ]
          },
          "metadata": {},
          "execution_count": 31
        }
      ]
    },
    {
      "cell_type": "markdown",
      "source": [
        "Tier 1 are top tier locations found in big cities. Tier 2 are smaller cities, Tier 3 very small cities and towns (based on my research on the real estate location types).\n"
      ],
      "metadata": {
        "id": "s1rDWHyfFxhj"
      }
    },
    {
      "cell_type": "code",
      "source": [
        "replacement_dictionary_3 = {'Tier 3': 0, 'Tier 2': 1, 'Tier 1': 2}\n",
        "df['Outlet_Location_Type'].replace(replacement_dictionary_3, inplace = True)"
      ],
      "metadata": {
        "id": "8Xf4O0l-o3UO"
      },
      "execution_count": 32,
      "outputs": []
    },
    {
      "cell_type": "markdown",
      "source": [
        "Let's split our data into a training and target data:\n"
      ],
      "metadata": {
        "id": "X3M26OUSF2Mg"
      }
    },
    {
      "cell_type": "code",
      "source": [
        "X = df.drop('Item_Outlet_Sales', axis = 1)\n",
        "y = df['Item_Outlet_Sales']\n",
        "\n",
        "X_train, X_test, y_train, y_test = train_test_split(X, y, random_state = 42)"
      ],
      "metadata": {
        "id": "pcDh8nH3ZegT"
      },
      "execution_count": 33,
      "outputs": []
    },
    {
      "cell_type": "markdown",
      "source": [
        "Instantiate column selectors:"
      ],
      "metadata": {
        "id": "f3OCNzjGF7Ku"
      }
    },
    {
      "cell_type": "code",
      "source": [
        "cat_selector = make_column_selector(dtype_include = 'object')\n",
        "num_selector = make_column_selector(dtype_include = 'number')"
      ],
      "metadata": {
        "id": "WFCfxrEacCHl"
      },
      "execution_count": 34,
      "outputs": []
    },
    {
      "cell_type": "markdown",
      "source": [
        "Instantiate Transformers:"
      ],
      "metadata": {
        "id": "tKPOsnVOF-4Y"
      }
    },
    {
      "cell_type": "code",
      "source": [
        "freq_imputer = SimpleImputer(strategy = 'most_frequent')\n",
        "mean_imputer = SimpleImputer(strategy = 'mean')\n",
        "\n",
        "scaler = StandardScaler()\n",
        "ohe = OneHotEncoder(handle_unknown = 'ignore', sparse = False)"
      ],
      "metadata": {
        "id": "_t9IJtO4cTzX"
      },
      "execution_count": 35,
      "outputs": []
    },
    {
      "cell_type": "markdown",
      "source": [
        "Instantiate pipelines:\n"
      ],
      "metadata": {
        "id": "zl6X1e_TGDHt"
      }
    },
    {
      "cell_type": "code",
      "source": [
        "numeric_pipe = make_pipeline(mean_imputer, scaler)\n",
        "categorical_pipe = make_pipeline(freq_imputer, ohe)"
      ],
      "metadata": {
        "id": "-xKnlJXVcZTZ"
      },
      "execution_count": 36,
      "outputs": []
    },
    {
      "cell_type": "markdown",
      "source": [
        "Instantiate ColumnTransformer:"
      ],
      "metadata": {
        "id": "HjRHyaJGGHhE"
      }
    },
    {
      "cell_type": "code",
      "source": [
        "number_tuple = (numeric_pipe, num_selector)\n",
        "category_tuple = (categorical_pipe, cat_selector)\n",
        "\n",
        "preprocessor = make_column_transformer(number_tuple, category_tuple)"
      ],
      "metadata": {
        "id": "3O5vIwGVcfsx"
      },
      "execution_count": 37,
      "outputs": []
    },
    {
      "cell_type": "markdown",
      "source": [
        "Transform data:"
      ],
      "metadata": {
        "id": "k2i6S-X1GLUo"
      }
    },
    {
      "cell_type": "code",
      "source": [
        "preprocessor.fit(X_train)\n",
        "\n",
        "X_train_processed = preprocessor.transform(X_train)\n",
        "X_test_processed = preprocessor.transform(X_test)"
      ],
      "metadata": {
        "id": "kQx3ORqPcs_P"
      },
      "execution_count": 38,
      "outputs": []
    },
    {
      "cell_type": "code",
      "source": [
        "X_train_processed"
      ],
      "metadata": {
        "colab": {
          "base_uri": "https://localhost:8080/"
        },
        "id": "okyylpUQs_GS",
        "outputId": "6bec388c-cade-468c-fbb3-0fa06e6543d0"
      },
      "execution_count": 39,
      "outputs": [
        {
          "output_type": "execute_result",
          "data": {
            "text/plain": [
              "array([[ 0.81724868, -0.7403206 , -0.71277507, ...,  0.        ,\n",
              "         1.        ,  0.        ],\n",
              "       [ 0.5563395 ,  1.35076614, -1.29105225, ...,  0.        ,\n",
              "         1.        ,  0.        ],\n",
              "       [-0.13151196,  1.35076614,  1.81331864, ...,  1.        ,\n",
              "         0.        ,  0.        ],\n",
              "       ...,\n",
              "       [ 1.11373638, -0.7403206 , -0.92052713, ...,  1.        ,\n",
              "         0.        ,  0.        ],\n",
              "       [ 1.76600931, -0.7403206 , -0.2277552 , ...,  1.        ,\n",
              "         0.        ,  0.        ],\n",
              "       [ 0.81724868, -0.7403206 , -0.95867683, ...,  1.        ,\n",
              "         0.        ,  0.        ]])"
            ]
          },
          "metadata": {},
          "execution_count": 39
        }
      ]
    },
    {
      "cell_type": "markdown",
      "source": [
        "# Linear Regression Model:"
      ],
      "metadata": {
        "id": "8I8kqOilHEGn"
      }
    },
    {
      "cell_type": "markdown",
      "source": [
        "1. Build a linear regression model to predict sales:"
      ],
      "metadata": {
        "id": "mmeakCt65qMy"
      }
    },
    {
      "cell_type": "code",
      "source": [
        "from sklearn.linear_model import LinearRegression\n",
        "reg = LinearRegression()\n",
        "reg.fit(X_train_processed, y_train)"
      ],
      "metadata": {
        "colab": {
          "base_uri": "https://localhost:8080/",
          "height": 74
        },
        "id": "RGCEtYKZ5wLY",
        "outputId": "f8b33022-dd5d-4014-f943-c5a0c15496e2"
      },
      "execution_count": 40,
      "outputs": [
        {
          "output_type": "execute_result",
          "data": {
            "text/plain": [
              "LinearRegression()"
            ],
            "text/html": [
              "<style>#sk-83e5b9a2-3b6f-40a2-8fa0-7d2782575641 {color: black;background-color: white;}#sk-83e5b9a2-3b6f-40a2-8fa0-7d2782575641 pre{padding: 0;}#sk-83e5b9a2-3b6f-40a2-8fa0-7d2782575641 div.sk-toggleable {background-color: white;}#sk-83e5b9a2-3b6f-40a2-8fa0-7d2782575641 label.sk-toggleable__label {cursor: pointer;display: block;width: 100%;margin-bottom: 0;padding: 0.3em;box-sizing: border-box;text-align: center;}#sk-83e5b9a2-3b6f-40a2-8fa0-7d2782575641 label.sk-toggleable__label-arrow:before {content: \"▸\";float: left;margin-right: 0.25em;color: #696969;}#sk-83e5b9a2-3b6f-40a2-8fa0-7d2782575641 label.sk-toggleable__label-arrow:hover:before {color: black;}#sk-83e5b9a2-3b6f-40a2-8fa0-7d2782575641 div.sk-estimator:hover label.sk-toggleable__label-arrow:before {color: black;}#sk-83e5b9a2-3b6f-40a2-8fa0-7d2782575641 div.sk-toggleable__content {max-height: 0;max-width: 0;overflow: hidden;text-align: left;background-color: #f0f8ff;}#sk-83e5b9a2-3b6f-40a2-8fa0-7d2782575641 div.sk-toggleable__content pre {margin: 0.2em;color: black;border-radius: 0.25em;background-color: #f0f8ff;}#sk-83e5b9a2-3b6f-40a2-8fa0-7d2782575641 input.sk-toggleable__control:checked~div.sk-toggleable__content {max-height: 200px;max-width: 100%;overflow: auto;}#sk-83e5b9a2-3b6f-40a2-8fa0-7d2782575641 input.sk-toggleable__control:checked~label.sk-toggleable__label-arrow:before {content: \"▾\";}#sk-83e5b9a2-3b6f-40a2-8fa0-7d2782575641 div.sk-estimator input.sk-toggleable__control:checked~label.sk-toggleable__label {background-color: #d4ebff;}#sk-83e5b9a2-3b6f-40a2-8fa0-7d2782575641 div.sk-label input.sk-toggleable__control:checked~label.sk-toggleable__label {background-color: #d4ebff;}#sk-83e5b9a2-3b6f-40a2-8fa0-7d2782575641 input.sk-hidden--visually {border: 0;clip: rect(1px 1px 1px 1px);clip: rect(1px, 1px, 1px, 1px);height: 1px;margin: -1px;overflow: hidden;padding: 0;position: absolute;width: 1px;}#sk-83e5b9a2-3b6f-40a2-8fa0-7d2782575641 div.sk-estimator {font-family: monospace;background-color: #f0f8ff;border: 1px dotted black;border-radius: 0.25em;box-sizing: border-box;margin-bottom: 0.5em;}#sk-83e5b9a2-3b6f-40a2-8fa0-7d2782575641 div.sk-estimator:hover {background-color: #d4ebff;}#sk-83e5b9a2-3b6f-40a2-8fa0-7d2782575641 div.sk-parallel-item::after {content: \"\";width: 100%;border-bottom: 1px solid gray;flex-grow: 1;}#sk-83e5b9a2-3b6f-40a2-8fa0-7d2782575641 div.sk-label:hover label.sk-toggleable__label {background-color: #d4ebff;}#sk-83e5b9a2-3b6f-40a2-8fa0-7d2782575641 div.sk-serial::before {content: \"\";position: absolute;border-left: 1px solid gray;box-sizing: border-box;top: 2em;bottom: 0;left: 50%;}#sk-83e5b9a2-3b6f-40a2-8fa0-7d2782575641 div.sk-serial {display: flex;flex-direction: column;align-items: center;background-color: white;padding-right: 0.2em;padding-left: 0.2em;}#sk-83e5b9a2-3b6f-40a2-8fa0-7d2782575641 div.sk-item {z-index: 1;}#sk-83e5b9a2-3b6f-40a2-8fa0-7d2782575641 div.sk-parallel {display: flex;align-items: stretch;justify-content: center;background-color: white;}#sk-83e5b9a2-3b6f-40a2-8fa0-7d2782575641 div.sk-parallel::before {content: \"\";position: absolute;border-left: 1px solid gray;box-sizing: border-box;top: 2em;bottom: 0;left: 50%;}#sk-83e5b9a2-3b6f-40a2-8fa0-7d2782575641 div.sk-parallel-item {display: flex;flex-direction: column;position: relative;background-color: white;}#sk-83e5b9a2-3b6f-40a2-8fa0-7d2782575641 div.sk-parallel-item:first-child::after {align-self: flex-end;width: 50%;}#sk-83e5b9a2-3b6f-40a2-8fa0-7d2782575641 div.sk-parallel-item:last-child::after {align-self: flex-start;width: 50%;}#sk-83e5b9a2-3b6f-40a2-8fa0-7d2782575641 div.sk-parallel-item:only-child::after {width: 0;}#sk-83e5b9a2-3b6f-40a2-8fa0-7d2782575641 div.sk-dashed-wrapped {border: 1px dashed gray;margin: 0 0.4em 0.5em 0.4em;box-sizing: border-box;padding-bottom: 0.4em;background-color: white;position: relative;}#sk-83e5b9a2-3b6f-40a2-8fa0-7d2782575641 div.sk-label label {font-family: monospace;font-weight: bold;background-color: white;display: inline-block;line-height: 1.2em;}#sk-83e5b9a2-3b6f-40a2-8fa0-7d2782575641 div.sk-label-container {position: relative;z-index: 2;text-align: center;}#sk-83e5b9a2-3b6f-40a2-8fa0-7d2782575641 div.sk-container {/* jupyter's `normalize.less` sets `[hidden] { display: none; }` but bootstrap.min.css set `[hidden] { display: none !important; }` so we also need the `!important` here to be able to override the default hidden behavior on the sphinx rendered scikit-learn.org. See: https://github.com/scikit-learn/scikit-learn/issues/21755 */display: inline-block !important;position: relative;}#sk-83e5b9a2-3b6f-40a2-8fa0-7d2782575641 div.sk-text-repr-fallback {display: none;}</style><div id=\"sk-83e5b9a2-3b6f-40a2-8fa0-7d2782575641\" class=\"sk-top-container\"><div class=\"sk-text-repr-fallback\"><pre>LinearRegression()</pre><b>Please rerun this cell to show the HTML repr or trust the notebook.</b></div><div class=\"sk-container\" hidden><div class=\"sk-item\"><div class=\"sk-estimator sk-toggleable\"><input class=\"sk-toggleable__control sk-hidden--visually\" id=\"108442b7-af73-4f94-929c-681fb771ff2e\" type=\"checkbox\" checked><label for=\"108442b7-af73-4f94-929c-681fb771ff2e\" class=\"sk-toggleable__label sk-toggleable__label-arrow\">LinearRegression</label><div class=\"sk-toggleable__content\"><pre>LinearRegression()</pre></div></div></div></div></div>"
            ]
          },
          "metadata": {},
          "execution_count": 40
        }
      ]
    },
    {
      "cell_type": "markdown",
      "source": [
        "Evaluate your model based on r2:"
      ],
      "metadata": {
        "id": "eBpUgityGR52"
      }
    },
    {
      "cell_type": "code",
      "source": [
        "train_score = reg.score(X_train_processed, y_train)\n",
        "test_score = reg.score(X_test_processed, y_test)\n",
        "print(train_score)\n",
        "print(test_score)"
      ],
      "metadata": {
        "colab": {
          "base_uri": "https://localhost:8080/"
        },
        "id": "20Z9Tuyq6Ray",
        "outputId": "e7b64bd1-c807-42db-bd33-ac56a1ece6f1"
      },
      "execution_count": 41,
      "outputs": [
        {
          "output_type": "stream",
          "name": "stdout",
          "text": [
            "0.6716512323850465\n",
            "-2.107153212118096e+18\n"
          ]
        }
      ]
    },
    {
      "cell_type": "markdown",
      "source": [
        "From the above r2, it does not seem that our model is performing at all well on the testing data. The r2 appears to be a negative value, which would imply that the model is performing worse than had we just fit a horizontal line on a graph of the data and used that for predictions. "
      ],
      "metadata": {
        "id": "SerCrVIa0PZH"
      }
    },
    {
      "cell_type": "markdown",
      "source": [
        "Evaluate your model based on rmse:\n"
      ],
      "metadata": {
        "id": "trP5TKlsGWM8"
      }
    },
    {
      "cell_type": "code",
      "source": [
        "from sklearn.metrics import mean_squared_error\n",
        "\n",
        "train_preds = reg.predict(X_train_processed)\n",
        "test_preds = reg.predict(X_test_processed)\n",
        "\n",
        "rmse_train = np.sqrt(mean_squared_error(y_train, train_preds))\n",
        "rmse_test = np.sqrt(mean_squared_error(y_test, test_preds))\n",
        "\n",
        "print(rmse_train)\n",
        "print(rmse_test)"
      ],
      "metadata": {
        "colab": {
          "base_uri": "https://localhost:8080/"
        },
        "id": "pV6aGiMK-8JQ",
        "outputId": "d3e2a5dc-c4f7-4c48-a166-38759e170a31"
      },
      "execution_count": 42,
      "outputs": [
        {
          "output_type": "stream",
          "name": "stdout",
          "text": [
            "985.7655062905881\n",
            "2411138290136.562\n"
          ]
        }
      ]
    },
    {
      "cell_type": "markdown",
      "source": [
        "The rmse also seem to be wildly different when calculated and would imply a very poor model."
      ],
      "metadata": {
        "id": "HyL7tgtx0woG"
      }
    },
    {
      "cell_type": "markdown",
      "source": [
        "# Regression Tree Model:"
      ],
      "metadata": {
        "id": "Ir9NsALcHJK9"
      }
    },
    {
      "cell_type": "markdown",
      "source": [
        "2. Build a Regression Tree Model to predict sales:"
      ],
      "metadata": {
        "id": "Akk_gE68wChM"
      }
    },
    {
      "cell_type": "code",
      "source": [
        "from sklearn.tree import DecisionTreeRegressor\n",
        "dec_tree = DecisionTreeRegressor(random_state = 42)\n",
        "dec_tree.fit(X_train_processed, y_train)"
      ],
      "metadata": {
        "colab": {
          "base_uri": "https://localhost:8080/",
          "height": 74
        },
        "id": "5Pub585W9twB",
        "outputId": "9294f383-2c95-4e45-8d57-2045289e1511"
      },
      "execution_count": 43,
      "outputs": [
        {
          "output_type": "execute_result",
          "data": {
            "text/plain": [
              "DecisionTreeRegressor(random_state=42)"
            ],
            "text/html": [
              "<style>#sk-d78b30e2-fd77-42a7-99a0-521ec204e4f3 {color: black;background-color: white;}#sk-d78b30e2-fd77-42a7-99a0-521ec204e4f3 pre{padding: 0;}#sk-d78b30e2-fd77-42a7-99a0-521ec204e4f3 div.sk-toggleable {background-color: white;}#sk-d78b30e2-fd77-42a7-99a0-521ec204e4f3 label.sk-toggleable__label {cursor: pointer;display: block;width: 100%;margin-bottom: 0;padding: 0.3em;box-sizing: border-box;text-align: center;}#sk-d78b30e2-fd77-42a7-99a0-521ec204e4f3 label.sk-toggleable__label-arrow:before {content: \"▸\";float: left;margin-right: 0.25em;color: #696969;}#sk-d78b30e2-fd77-42a7-99a0-521ec204e4f3 label.sk-toggleable__label-arrow:hover:before {color: black;}#sk-d78b30e2-fd77-42a7-99a0-521ec204e4f3 div.sk-estimator:hover label.sk-toggleable__label-arrow:before {color: black;}#sk-d78b30e2-fd77-42a7-99a0-521ec204e4f3 div.sk-toggleable__content {max-height: 0;max-width: 0;overflow: hidden;text-align: left;background-color: #f0f8ff;}#sk-d78b30e2-fd77-42a7-99a0-521ec204e4f3 div.sk-toggleable__content pre {margin: 0.2em;color: black;border-radius: 0.25em;background-color: #f0f8ff;}#sk-d78b30e2-fd77-42a7-99a0-521ec204e4f3 input.sk-toggleable__control:checked~div.sk-toggleable__content {max-height: 200px;max-width: 100%;overflow: auto;}#sk-d78b30e2-fd77-42a7-99a0-521ec204e4f3 input.sk-toggleable__control:checked~label.sk-toggleable__label-arrow:before {content: \"▾\";}#sk-d78b30e2-fd77-42a7-99a0-521ec204e4f3 div.sk-estimator input.sk-toggleable__control:checked~label.sk-toggleable__label {background-color: #d4ebff;}#sk-d78b30e2-fd77-42a7-99a0-521ec204e4f3 div.sk-label input.sk-toggleable__control:checked~label.sk-toggleable__label {background-color: #d4ebff;}#sk-d78b30e2-fd77-42a7-99a0-521ec204e4f3 input.sk-hidden--visually {border: 0;clip: rect(1px 1px 1px 1px);clip: rect(1px, 1px, 1px, 1px);height: 1px;margin: -1px;overflow: hidden;padding: 0;position: absolute;width: 1px;}#sk-d78b30e2-fd77-42a7-99a0-521ec204e4f3 div.sk-estimator {font-family: monospace;background-color: #f0f8ff;border: 1px dotted black;border-radius: 0.25em;box-sizing: border-box;margin-bottom: 0.5em;}#sk-d78b30e2-fd77-42a7-99a0-521ec204e4f3 div.sk-estimator:hover {background-color: #d4ebff;}#sk-d78b30e2-fd77-42a7-99a0-521ec204e4f3 div.sk-parallel-item::after {content: \"\";width: 100%;border-bottom: 1px solid gray;flex-grow: 1;}#sk-d78b30e2-fd77-42a7-99a0-521ec204e4f3 div.sk-label:hover label.sk-toggleable__label {background-color: #d4ebff;}#sk-d78b30e2-fd77-42a7-99a0-521ec204e4f3 div.sk-serial::before {content: \"\";position: absolute;border-left: 1px solid gray;box-sizing: border-box;top: 2em;bottom: 0;left: 50%;}#sk-d78b30e2-fd77-42a7-99a0-521ec204e4f3 div.sk-serial {display: flex;flex-direction: column;align-items: center;background-color: white;padding-right: 0.2em;padding-left: 0.2em;}#sk-d78b30e2-fd77-42a7-99a0-521ec204e4f3 div.sk-item {z-index: 1;}#sk-d78b30e2-fd77-42a7-99a0-521ec204e4f3 div.sk-parallel {display: flex;align-items: stretch;justify-content: center;background-color: white;}#sk-d78b30e2-fd77-42a7-99a0-521ec204e4f3 div.sk-parallel::before {content: \"\";position: absolute;border-left: 1px solid gray;box-sizing: border-box;top: 2em;bottom: 0;left: 50%;}#sk-d78b30e2-fd77-42a7-99a0-521ec204e4f3 div.sk-parallel-item {display: flex;flex-direction: column;position: relative;background-color: white;}#sk-d78b30e2-fd77-42a7-99a0-521ec204e4f3 div.sk-parallel-item:first-child::after {align-self: flex-end;width: 50%;}#sk-d78b30e2-fd77-42a7-99a0-521ec204e4f3 div.sk-parallel-item:last-child::after {align-self: flex-start;width: 50%;}#sk-d78b30e2-fd77-42a7-99a0-521ec204e4f3 div.sk-parallel-item:only-child::after {width: 0;}#sk-d78b30e2-fd77-42a7-99a0-521ec204e4f3 div.sk-dashed-wrapped {border: 1px dashed gray;margin: 0 0.4em 0.5em 0.4em;box-sizing: border-box;padding-bottom: 0.4em;background-color: white;position: relative;}#sk-d78b30e2-fd77-42a7-99a0-521ec204e4f3 div.sk-label label {font-family: monospace;font-weight: bold;background-color: white;display: inline-block;line-height: 1.2em;}#sk-d78b30e2-fd77-42a7-99a0-521ec204e4f3 div.sk-label-container {position: relative;z-index: 2;text-align: center;}#sk-d78b30e2-fd77-42a7-99a0-521ec204e4f3 div.sk-container {/* jupyter's `normalize.less` sets `[hidden] { display: none; }` but bootstrap.min.css set `[hidden] { display: none !important; }` so we also need the `!important` here to be able to override the default hidden behavior on the sphinx rendered scikit-learn.org. See: https://github.com/scikit-learn/scikit-learn/issues/21755 */display: inline-block !important;position: relative;}#sk-d78b30e2-fd77-42a7-99a0-521ec204e4f3 div.sk-text-repr-fallback {display: none;}</style><div id=\"sk-d78b30e2-fd77-42a7-99a0-521ec204e4f3\" class=\"sk-top-container\"><div class=\"sk-text-repr-fallback\"><pre>DecisionTreeRegressor(random_state=42)</pre><b>Please rerun this cell to show the HTML repr or trust the notebook.</b></div><div class=\"sk-container\" hidden><div class=\"sk-item\"><div class=\"sk-estimator sk-toggleable\"><input class=\"sk-toggleable__control sk-hidden--visually\" id=\"c6559625-9716-485a-a955-aab72bc86646\" type=\"checkbox\" checked><label for=\"c6559625-9716-485a-a955-aab72bc86646\" class=\"sk-toggleable__label sk-toggleable__label-arrow\">DecisionTreeRegressor</label><div class=\"sk-toggleable__content\"><pre>DecisionTreeRegressor(random_state=42)</pre></div></div></div></div></div>"
            ]
          },
          "metadata": {},
          "execution_count": 43
        }
      ]
    },
    {
      "cell_type": "code",
      "source": [
        "dec_tree.get_depth()"
      ],
      "metadata": {
        "colab": {
          "base_uri": "https://localhost:8080/"
        },
        "id": "0kXcJDy1w6Fz",
        "outputId": "1b3550b5-3bf6-4975-839d-4de774c8b32f"
      },
      "execution_count": 44,
      "outputs": [
        {
          "output_type": "execute_result",
          "data": {
            "text/plain": [
              "60"
            ]
          },
          "metadata": {},
          "execution_count": 44
        }
      ]
    },
    {
      "cell_type": "code",
      "source": [
        "train_score = dec_tree.score(X_train_processed, y_train)\n",
        "test_score = dec_tree.score(X_test_processed, y_test)\n",
        "print(train_score)\n",
        "print(test_score)"
      ],
      "metadata": {
        "colab": {
          "base_uri": "https://localhost:8080/"
        },
        "id": "XS8De-13zuCq",
        "outputId": "284ae601-3496-43b6-dc9a-0b1eace32f32"
      },
      "execution_count": 45,
      "outputs": [
        {
          "output_type": "stream",
          "name": "stdout",
          "text": [
            "1.0\n",
            "0.20750590480382314\n"
          ]
        }
      ]
    },
    {
      "cell_type": "markdown",
      "source": [
        "The model is overfit for the training data with a very high variance. \n",
        "It is performing very poorly on the testing data."
      ],
      "metadata": {
        "id": "X5u22FINGcF8"
      }
    },
    {
      "cell_type": "markdown",
      "source": [
        "Let's find an adequate maximum depth to tune our model and reduce variance and bias:\n"
      ],
      "metadata": {
        "id": "SfAbFPVjGhCf"
      }
    },
    {
      "cell_type": "code",
      "source": [
        "import matplotlib.pyplot as plt\n",
        "\n",
        "max_depth_range = list(range(2,60))\n",
        "r2 = []\n",
        "for depth in max_depth_range:\n",
        "  dec_tree = DecisionTreeRegressor(max_depth = depth, random_state = 42)\n",
        "  dec_tree.fit(X_train_processed, y_train)\n",
        "  score = dec_tree.score(X_test_processed, y_test)\n",
        "  r2.append(score)\n",
        "\n",
        "plt.plot(max_depth_range, r2)\n",
        "plt.xlabel('max_depth')\n",
        "plt.ylabel('R2');"
      ],
      "metadata": {
        "colab": {
          "base_uri": "https://localhost:8080/",
          "height": 280
        },
        "id": "mHmvXimtwnEp",
        "outputId": "d1ede9df-d967-48c8-c96b-aa5523f52a1e"
      },
      "execution_count": 46,
      "outputs": [
        {
          "output_type": "display_data",
          "data": {
            "text/plain": [
              "<Figure size 432x288 with 1 Axes>"
            ],
            "image/png": "[encoded data removed]"
          },
          "metadata": {
            "needs_background": "light"
          }
        }
      ]
    },
    {
      "cell_type": "markdown",
      "source": [
        "It appears that the best max_depth (with the highest r2) is around 5 or 6:"
      ],
      "metadata": {
        "id": "ZNvO0mjTGlz-"
      }
    },
    {
      "cell_type": "code",
      "source": [
        "dec_tree_5 = DecisionTreeRegressor(max_depth = 5,  random_state = 42)\n",
        "dec_tree_5.fit(X_train_processed, y_train)\n",
        "\n",
        "train_score_5 = dec_tree_5.score(X_train_processed, y_train)\n",
        "test_score_5 = dec_tree_5.score(X_test_processed, y_test)\n",
        "print(train_score_5)\n",
        "print(test_score_5)"
      ],
      "metadata": {
        "colab": {
          "base_uri": "https://localhost:8080/"
        },
        "id": "daP3FECYw2Ub",
        "outputId": "6a723ace-1424-4920-aa78-c54eceef2300"
      },
      "execution_count": 47,
      "outputs": [
        {
          "output_type": "stream",
          "name": "stdout",
          "text": [
            "0.6042066848171654\n",
            "0.5960564372160062\n"
          ]
        }
      ]
    },
    {
      "cell_type": "code",
      "source": [
        "dec_tree_6 = DecisionTreeRegressor(max_depth = 6,  random_state = 42)\n",
        "dec_tree_6.fit(X_train_processed, y_train)\n",
        "\n",
        "train_score_6 = dec_tree_6.score(X_train_processed, y_train)\n",
        "test_score_6 = dec_tree_6.score(X_test_processed, y_test)\n",
        "print(train_score_6)\n",
        "print(test_score_6)"
      ],
      "metadata": {
        "colab": {
          "base_uri": "https://localhost:8080/"
        },
        "id": "JC3M1WCIzPgY",
        "outputId": "01ae76fe-3293-4a10-e4ac-fa7a6ad6854c"
      },
      "execution_count": 48,
      "outputs": [
        {
          "output_type": "stream",
          "name": "stdout",
          "text": [
            "0.6157022844525739\n",
            "0.5846684022696164\n"
          ]
        }
      ]
    },
    {
      "cell_type": "markdown",
      "source": [
        "From the above code we can see that the max_depth of 5 is performing the best."
      ],
      "metadata": {
        "id": "vSf97d-OGplA"
      }
    },
    {
      "cell_type": "markdown",
      "source": [
        "Compare the performance of the model based on r^2:\n"
      ],
      "metadata": {
        "id": "Ee1wwLm6GuAn"
      }
    },
    {
      "cell_type": "code",
      "source": [
        "train_score_5 = dec_tree_5.score(X_train_processed, y_train)\n",
        "test_score_5 = dec_tree_5.score(X_test_processed, y_test)\n",
        "print(train_score_5)\n",
        "print(test_score_5)"
      ],
      "metadata": {
        "colab": {
          "base_uri": "https://localhost:8080/"
        },
        "id": "6Kkffkr--Vt8",
        "outputId": "b0d62ae3-122f-418a-bdd7-283b07b66468"
      },
      "execution_count": 49,
      "outputs": [
        {
          "output_type": "stream",
          "name": "stdout",
          "text": [
            "0.6042066848171654\n",
            "0.5960564372160062\n"
          ]
        }
      ]
    },
    {
      "cell_type": "markdown",
      "source": [
        "This regression tree model seems to be performing much better than our linear regression model. There is a very low variance between the training and testing data and a fairly low bias. The model appears to be able to make fairly adequate sales predicitions for the stores."
      ],
      "metadata": {
        "id": "gRrKiQ5P08kG"
      }
    },
    {
      "cell_type": "markdown",
      "source": [
        "Compare the performance of the model based on rmse:\n"
      ],
      "metadata": {
        "id": "Ke-PIKouGy2P"
      }
    },
    {
      "cell_type": "code",
      "source": [
        "train_preds_tree = dec_tree_5.predict(X_train_processed)\n",
        "test_preds_tree = dec_tree_5.predict(X_test_processed)\n",
        "\n",
        "rmse_train = np.sqrt(mean_squared_error(y_train, train_preds_tree))\n",
        "rmse_test = np.sqrt(mean_squared_error(y_test, test_preds_tree))\n",
        "\n",
        "print(rmse_train)\n",
        "print(rmse_test)"
      ],
      "metadata": {
        "colab": {
          "base_uri": "https://localhost:8080/"
        },
        "id": "qnsxsirT_7lW",
        "outputId": "d6c19727-e0f5-419c-9565-19dcd2c45eff"
      },
      "execution_count": 50,
      "outputs": [
        {
          "output_type": "stream",
          "name": "stdout",
          "text": [
            "1082.281287111312\n",
            "1055.6851402178304\n"
          ]
        }
      ]
    },
    {
      "cell_type": "markdown",
      "source": [
        "Similar to the r2 evaluation, the rmse is also showing much better performance, the two numbers from the testing and training data being very similar. The model seems to be good enough to be put into use. "
      ],
      "metadata": {
        "id": "uzxN7IV61c6R"
      }
    },
    {
      "cell_type": "markdown",
      "source": [
        "Based on the evaluation and examples given for the r2 and rmse above, I would recommend using the regression tree model. It seems to be performing much better than the linear regression model and can predict with fairly good accuarcy future sales predicitions. Both r2 and rmse factors on the regression tree are an extreme improvement on the very poor numbers that the linear regression model seems to be giving us. "
      ],
      "metadata": {
        "id": "yz6QlmLG1vdV"
      }
    }
  ]
}